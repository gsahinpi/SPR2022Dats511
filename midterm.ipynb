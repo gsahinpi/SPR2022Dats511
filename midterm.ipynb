{
 "cells": [
  {
   "attachments": {},
   "cell_type": "markdown",
   "metadata": {},
   "source": [
    "# EE242 Midterm I\n",
    "## q1) (10 points ) \n",
    "Find the ascii sum of the characters in your name and surname. (ascii sum of the name ali is 097+ 108+ 105=310)\n",
    "\n",
    "Asciiname=\n",
    "\n",
    "ASciisurname=\n",
    "\n",
    "ASciitotal=\n",
    "\n",
    "Timernumber=(ASciitotal%14)+1\n",
    "\n",
    "ARRNUMBER=65536-1\n",
    "\n",
    "Duration=(ASciisurname%1500)*30\n",
    "\n",
    "LEDPINNUMBER=(ASciitotal%4)+12\n",
    "\n",
    "\n",
    "## q2)(90) \n",
    "STm32f407 has 14 timers(named as TIM1,TIM2,....,TIM14) each of which can act as a simple timer. So what is a simple timer. İt is nothing but a counter that counts upto a specified value with precise timing between each increment of the count.\n",
    "\n",
    "How can you use a timer?:\n",
    "\n",
    "a) CLOCK THE GATE: Find the bus that your timer is connected (Hint all the timers are connected to either APB1 or APB2).\n",
    "\n",
    "Find the relevant enable register in the RCC special function register and set it to 1.\n",
    "\n",
    "b) INITIALIZE THE TIMER: \n",
    "\n",
    " Each timer has more than 20 subregisters but luckily in order to use any of them as basic timer we only need to set 2 subregisters.\n",
    "\n",
    " Set the prescaler register (psc is used for short) to 2 .\n",
    "\n",
    " Set the autoreload register to ARRNUMBER\n",
    "\n",
    " c) START THE TIMER:\n",
    "\n",
    " in order to start a timer you have to set the control register of that timer  to 1. In the data sheet and stm32f407xx.h file it is abbreviated as CR1. So set CR1 to 1 to start the timer and set CR1 to 0 to top it.\n",
    "\n",
    " d) WATCH THE COUNT VALUE: Whenever the timer starts hardware increments the count register of the timer (CNT for short) increments by 1 at every\n",
    " cycle of the MCU.You can read its value through CNT register.\n",
    "\n",
    "\n",
    " YOUR TASK: You will use the timer specified by your Timernumber  to count up to  Duration. Whenever it reaches the duration the timer should stop ,set the CNT register to 1, toggle the led specified by LEDPINNUMBER and start again (in main while loop).\n",
    "\n",
    " Deliverables:\n",
    "  \n",
    "  A link to your github repository which includes i) a link to a video showing your board or qemu simulation.\n",
    "                                                 ii) Your STMCUBEIDE project file\n",
    "                                                iii) A text file for your answer to question 1\n",
    "\n",
    "NOTE: Your projects will be tested by MOSS (measure of software similarity ) and resemblance might result in an FA.\n",
    "                                                   \n",
    "\n",
    " \n",
    "\n"
   ]
  },
  {
   "cell_type": "markdown",
   "metadata": {},
   "source": []
  }
 ],
 "metadata": {
  "kernelspec": {
   "display_name": "stat-rethink2-pymc3",
   "language": "python",
   "name": "python3"
  },
  "language_info": {
   "name": "python",
   "version": "3.9.7"
  },
  "orig_nbformat": 4
 },
 "nbformat": 4,
 "nbformat_minor": 2
}
