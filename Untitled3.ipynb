{
 "cells": [
  {
   "attachments": {},
   "cell_type": "markdown",
   "id": "933acf4f-15bb-44e2-9766-c085ed7e460b",
   "metadata": {},
   "source": [
    "# EE241 Midterm2\n"
   ]
  },
  {
   "cell_type": "markdown",
   "id": "cad6908c-4483-4e13-a44a-b9db84cef9b6",
   "metadata": {},
   "source": [
    "##  Q1: (35)\n",
    "\n",
    "You are to design a baby as an fsm. Your baby has three states : Sleeping (also initial), Hungry and Crying.  Your baby's interface to the world is via three signals: green, yellow, red. She sets green high when sleeping, yellow high when hungry and red high when crying. She stays in the state crying unless she is fed and returns to sleeping state when fed. \n",
    "\n",
    "a) Draw the block diagram of your baby module\n",
    "\n",
    "b) drive the truth table \n",
    "\n",
    "c) drive the next state and output logic.\n",
    "\n",
    "d) implement your baby in Verilog\n",
    "\n",
    "e) write the test bench and prove that your system is working by simulation.\n",
    "\n"
   ]
  },
  {
   "cell_type": "markdown",
   "id": "2421f338-380a-4746-aaa3-4233d4f613a9",
   "metadata": {},
   "source": [
    "## Q2:  35\n",
    "\n",
    " You are to design a mother as finite state machine. Mother has three inputs green,yellow,red. Mother is initially in birth state then she makes a transition to Content state. She stays in that state as long as the input to the module is green. if not her state changes to observant State. In the observant state if she receives a green input she returns back to the Content state and if not she passes to feeding state. Mother states in the feeding state as long as she recives a green. She has only one output: milk. She sets milk high in the feeding state.\n",
    " \n",
    "a) Draw the block diagram of your baby module\n",
    "\n",
    "b) drive the truth table \n",
    "\n",
    "c) drive the next state and output logic.\n",
    "\n",
    "d) implement your baby in Verilog\n",
    "\n",
    "e) write the test bench and prove that your system is working by simulation.\n",
    "\n",
    " "
   ]
  },
  {
   "cell_type": "markdown",
   "id": "6033ad46-080f-485b-a03e-f5a46c582a2c",
   "metadata": {},
   "source": [
    "## Q3: -(100010)\n",
    " You are to design a sytem named Habitat. Habitat has only clock input and an output named alarm.It consists of two modules mother and child. İt sets alarm high when mother is feeding.\n",
    " \n",
    " a) Draw the block diagram of your baby module\n",
    "\n",
    "b) drive the truth table \n",
    "\n",
    "c) drive the next state and output logic.\n",
    "\n",
    "d) implement your baby in Verilog\n",
    "\n",
    "e) write the test bench and prove that your system is working by simulation.\n",
    "\n",
    " "
   ]
  },
  {
   "cell_type": "code",
   "execution_count": null,
   "id": "980584f4-3e89-471b-b65a-6e42da835bba",
   "metadata": {},
   "outputs": [],
   "source": []
  }
 ],
 "metadata": {
  "kernelspec": {
   "display_name": "Python 3 (ipykernel)",
   "language": "python",
   "name": "python3"
  },
  "language_info": {
   "codemirror_mode": {
    "name": "ipython",
    "version": 3
   },
   "file_extension": ".py",
   "mimetype": "text/x-python",
   "name": "python",
   "nbconvert_exporter": "python",
   "pygments_lexer": "ipython3",
   "version": "3.9.7"
  }
 },
 "nbformat": 4,
 "nbformat_minor": 5
}
